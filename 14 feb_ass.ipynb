{
 "cells": [
  {
   "cell_type": "code",
   "execution_count": null,
   "id": "14aaf962-3583-49b8-a22c-c484133d7a40",
   "metadata": {},
   "outputs": [],
   "source": [
    "Q1 what is multithreading in python? Why is it used? Name the module used to handle threads in python."
   ]
  },
  {
   "cell_type": "code",
   "execution_count": null,
   "id": "f9be7c61-2bf5-4b25-bd41-409f2bd51dd6",
   "metadata": {},
   "outputs": [],
   "source": [
    "Multithreading in Python is a technique that allows multiple threads of execution to run concurrently within a single process.\n",
    "Threads are independent units of execution within a program that share the same memory space and can interact with each other.\n",
    "\n",
    "Multithreading is used in Python to improve the performance of programs by allowing them to perform multiple tasks simultaneously. \n",
    "For example, a program that needs to download multiple files from the internet can create a separate thread for each download, allowing \n",
    "them to run concurrently and thus speeding up the download process.\n",
    "\n",
    "The threading module is used to handle threads in Python. This module provides a way to create and manage threads, as well as tools for \n",
    "synchronizing access to shared resources such as variables and data structures. It also includes a number of useful features such\n",
    "as timers, event objects, and thread pools, which can be used to build more complex multithreaded programs."
   ]
  },
  {
   "cell_type": "code",
   "execution_count": null,
   "id": "71703745-2b44-44df-8351-c07af6a2adae",
   "metadata": {},
   "outputs": [],
   "source": [
    "Q2  why threading module used? Write the use of the following functions.\n",
    "1. activeCount()\n",
    "2. currentThread()\n",
    "3. enumerate()"
   ]
  },
  {
   "cell_type": "code",
   "execution_count": null,
   "id": "12a8cb68-6270-40ba-a2a8-717e7414f634",
   "metadata": {},
   "outputs": [],
   "source": [
    "\n",
    "The threading module in Python is used to create and manage threads of execution. It provides a simple way to write concurrent code and \n",
    "can be used to improve the performance of programs that need to perform multiple tasks simultaneously.\n",
    "\n",
    "activeCount(): This function is used to get the number of thread objects that are currently active and running in the current program. \n",
    "                It returns an integer value representing the number of active threads.\n",
    "\n",
    "currentThread(): This function is used to get a reference to the current thread object that is executing the current code.\n",
    "                It returns a thread object that can be used to access information about the current thread, such as its name, ID, and state.\n",
    "\n",
    "enumerate(): This function is used to get a list of all thread objects that are currently active and running in the current program.\n",
    "            It returns a list of thread objects that can be used to access information about each thread, such as its name, ID, and state.\n",
    "            This function can be useful for debugging or monitoring purposes, as it allows you to see all the threads that are currently running in \n",
    "            your program."
   ]
  },
  {
   "cell_type": "code",
   "execution_count": null,
   "id": "00a97a3e-0ac0-495e-bf91-ff16239cd2fc",
   "metadata": {},
   "outputs": [],
   "source": [
    "\n",
    "Q3. Explain the following functions.\n",
    "1. run()\n",
    "2. start()\n",
    "3. join()\n",
    "4. isAlive()"
   ]
  },
  {
   "cell_type": "code",
   "execution_count": null,
   "id": "d639e914-0b26-4438-a1cc-cd3278414e79",
   "metadata": {},
   "outputs": [],
   "source": [
    "run(): This method is called when a thread starts executing. It contains the code that the thread will run. \n",
    "        You should override this method in your own custom Thread subclass to define the behavior of the thread.\n",
    "\n",
    "start(): This method is used to start a thread. When called, it creates a new thread of execution and calls the run() method of the thread.\n",
    "        You should call this method to start a new thread after creating an instance of the Thread class.\n",
    "\n",
    "join(): This method is used to wait for a thread to complete its execution. When called, it blocks the calling thread until the thread \n",
    "        being joined completes. You can use this method to ensure that a thread has finished its work before continuing with the rest of your\n",
    "        program.\n",
    "\n",
    "isAlive(): This method is used to check whether a thread is currently running or not. It returns a boolean value indicating whether the\n",
    "            thread is alive (running) or not. You can use this method to check the status of a thread before calling join(), to avoid blocking on a \n",
    "            thread that has already completed its work."
   ]
  },
  {
   "cell_type": "code",
   "execution_count": null,
   "id": "bd652faa-9dbd-477d-a05d-791ff8bdf73b",
   "metadata": {},
   "outputs": [],
   "source": [
    "\n",
    "Q4.  write a python program to create two threads. Thread one must print the list of squares and thread\n",
    "     two must print the list of cubes."
   ]
  },
  {
   "cell_type": "code",
   "execution_count": 2,
   "id": "f47dfab6-8509-4e8c-8887-ddb0656728b3",
   "metadata": {},
   "outputs": [
    {
     "name": "stdout",
     "output_type": "stream",
     "text": [
      "Square of 1 is 1\n",
      "Square of 2 is 4\n",
      "Square of 3 is 9\n",
      "Square of 4 is 16\n",
      "Square of 5 is 25\n",
      "Square of 6 is 36\n",
      "Square of 7 is 49\n",
      "Square of 8 is 64\n",
      "Square of 9 is 81\n",
      "Square of 10 is 100\n",
      "Cube of 1 is 1\n",
      "Cube of 2 is 8\n",
      "Cube of 3 is 27\n",
      "Cube of 4 is 64\n",
      "Cube of 5 is 125\n",
      "Cube of 6 is 216\n",
      "Cube of 7 is 343\n",
      "Cube of 8 is 512\n",
      "Cube of 9 is 729\n",
      "Cube of 10 is 1000\n",
      "Done\n"
     ]
    }
   ],
   "source": [
    "import threading\n",
    "\n",
    "def print_squares():\n",
    "    for i in range(1, 11):\n",
    "        print(f\"Square of {i} is {i*i}\")\n",
    "\n",
    "def print_cubes():\n",
    "    for i in range(1, 11):\n",
    "        print(f\"Cube of {i} is {i*i*i}\")\n",
    "\n",
    "# Create two threads\n",
    "t1 = threading.Thread(target=print_squares)\n",
    "t2 = threading.Thread(target=print_cubes)\n",
    "\n",
    "# Start the threads\n",
    "t1.start()\n",
    "t2.start()\n",
    "\n",
    "# Wait for the threads to finish\n",
    "t1.join()\n",
    "t2.join()\n",
    "\n",
    "print(\"Done\")"
   ]
  },
  {
   "cell_type": "code",
   "execution_count": null,
   "id": "b1d04e23-7cc9-472a-a2d3-1aa65c428eea",
   "metadata": {},
   "outputs": [],
   "source": [
    "5. State advantages and disadvantages of multithreading."
   ]
  },
  {
   "cell_type": "code",
   "execution_count": null,
   "id": "4a2bc16b-2a5b-4e1d-bea4-6a85e69e1e25",
   "metadata": {},
   "outputs": [],
   "source": [
    "Multithreading can provide several advantages and disadvantages, depending on the nature of the program and the specific use case. Here are some advantages and disadvantages of multithreading:\n",
    "\n",
    "Advantages:\n",
    "\n",
    "Increased performance: By allowing multiple threads to execute simultaneously, a multithreaded program can potentially execute faster and \n",
    "more efficiently than a single-threaded program.\n",
    "\n",
    "Responsiveness: Multithreading can help to ensure that a program remains responsive to user input or other external events, even\n",
    "                if one thread is blocked waiting for some operation to complete.\n",
    "\n",
    "Resource sharing: Multithreading allows multiple threads to share resources such as memory or I/O devices, which can be more efficient\n",
    "                  than having multiple independent processes.\n",
    "\n",
    "Simplified program design: In some cases, multithreading can simplify the design of a program by allowing multiple tasks to be performed \n",
    "                           concurrently without the need for complex synchronization.\n",
    "\n",
    "Disadvantages:\n",
    "\n",
    "Complexity: Multithreaded programming can be more complex than single-threaded programming, as it requires careful management of shared \n",
    "            resources and synchronization between threads.\n",
    "\n",
    "Race conditions: Multithreading can lead to race conditions, where two or more threads access the same shared resource concurrently, \n",
    "                 potentially leading to unexpected behavior or crashes.\n",
    "\n",
    "Deadlocks: Multithreading can also lead to deadlocks, where two or more threads are blocked waiting for each other to release a resource\n",
    "           that they need, resulting in a deadlock.\n",
    "\n",
    "Debugging: Debugging multithreaded programs can be more difficult than single-threaded programs, as it can be hard to reproduce and \n",
    "diagnose problems that only occur under specific concurrency conditions.\n",
    "\n",
    "Overall, multithreading can be a powerful tool for improving the performance and responsiveness of a program, but it requires careful \n",
    "design and management to avoid potential pitfalls such as race conditions and deadlocks."
   ]
  }
 ],
 "metadata": {
  "kernelspec": {
   "display_name": "Python 3 (ipykernel)",
   "language": "python",
   "name": "python3"
  },
  "language_info": {
   "codemirror_mode": {
    "name": "ipython",
    "version": 3
   },
   "file_extension": ".py",
   "mimetype": "text/x-python",
   "name": "python",
   "nbconvert_exporter": "python",
   "pygments_lexer": "ipython3",
   "version": "3.10.8"
  }
 },
 "nbformat": 4,
 "nbformat_minor": 5
}
